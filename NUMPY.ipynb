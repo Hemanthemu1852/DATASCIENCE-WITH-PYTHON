{
  "nbformat": 4,
  "nbformat_minor": 0,
  "metadata": {
    "colab": {
      "provenance": [],
      "authorship_tag": "ABX9TyOTg+KpNzuLLmOSJDLnsjXE",
      "include_colab_link": true
    },
    "kernelspec": {
      "name": "python3",
      "display_name": "Python 3"
    },
    "language_info": {
      "name": "python"
    }
  },
  "cells": [
    {
      "cell_type": "markdown",
      "metadata": {
        "id": "view-in-github",
        "colab_type": "text"
      },
      "source": [
        "<a href=\"https://colab.research.google.com/github/Hemanthemu1852/DATASCIENCE-WITH-PYTHON/blob/main/NUMPY.ipynb\" target=\"_parent\"><img src=\"https://colab.research.google.com/assets/colab-badge.svg\" alt=\"Open In Colab\"/></a>"
      ]
    },
    {
      "cell_type": "code",
      "execution_count": 3,
      "metadata": {
        "id": "DHAA8VMEJFkD"
      },
      "outputs": [],
      "source": [
        "x=np.array([3,4,5])\n",
        "y=np.array([4,9,7])"
      ]
    },
    {
      "cell_type": "code",
      "source": [
        "import numpy as np"
      ],
      "metadata": {
        "id": "FQ3z-BwLMB9P"
      },
      "execution_count": 2,
      "outputs": []
    },
    {
      "cell_type": "code",
      "source": [
        "x+y\n"
      ],
      "metadata": {
        "colab": {
          "base_uri": "https://localhost:8080/"
        },
        "id": "iN-cbFOpMO6a",
        "outputId": "318c1299-9387-47c1-fd9d-6acee74c639a"
      },
      "execution_count": 4,
      "outputs": [
        {
          "output_type": "execute_result",
          "data": {
            "text/plain": [
              "array([ 7, 13, 12])"
            ]
          },
          "metadata": {},
          "execution_count": 4
        }
      ]
    },
    {
      "cell_type": "code",
      "source": [
        "a=[1,2,3]\n",
        "b=[4,5,6]"
      ],
      "metadata": {
        "id": "a6YYcqUuMcNw"
      },
      "execution_count": 5,
      "outputs": []
    },
    {
      "cell_type": "code",
      "source": [
        "a+b\n"
      ],
      "metadata": {
        "colab": {
          "base_uri": "https://localhost:8080/"
        },
        "id": "Ze6bxFJ8Mgo8",
        "outputId": "079ce829-6ca3-4fd7-fcee-2a636f639df1"
      },
      "execution_count": 6,
      "outputs": [
        {
          "output_type": "execute_result",
          "data": {
            "text/plain": [
              "[1, 2, 3, 4, 5, 6]"
            ]
          },
          "metadata": {},
          "execution_count": 6
        }
      ]
    },
    {
      "cell_type": "code",
      "source": [
        "f=np.array([[1,2],[3,4]])"
      ],
      "metadata": {
        "id": "8sAYxJWIMhky"
      },
      "execution_count": 7,
      "outputs": []
    },
    {
      "cell_type": "code",
      "source": [
        "f.ndim"
      ],
      "metadata": {
        "colab": {
          "base_uri": "https://localhost:8080/"
        },
        "id": "NDN3pUk2Mypd",
        "outputId": "4826af07-28bd-4bb8-b9db-e90ac24518ae"
      },
      "execution_count": 8,
      "outputs": [
        {
          "output_type": "execute_result",
          "data": {
            "text/plain": [
              "2"
            ]
          },
          "metadata": {},
          "execution_count": 8
        }
      ]
    },
    {
      "cell_type": "code",
      "source": [
        "x.ndim"
      ],
      "metadata": {
        "colab": {
          "base_uri": "https://localhost:8080/"
        },
        "id": "6_Iy7gDdM5uq",
        "outputId": "217ab47d-7ea8-4ed6-9e18-ec035759bf4f"
      },
      "execution_count": 9,
      "outputs": [
        {
          "output_type": "execute_result",
          "data": {
            "text/plain": [
              "1"
            ]
          },
          "metadata": {},
          "execution_count": 9
        }
      ]
    },
    {
      "cell_type": "code",
      "source": [
        "h=np.matrix([[1,2,3,4],[5,6,7,8]])"
      ],
      "metadata": {
        "id": "1AUZn_p4M7U_"
      },
      "execution_count": 10,
      "outputs": []
    },
    {
      "cell_type": "code",
      "source": [
        "h"
      ],
      "metadata": {
        "colab": {
          "base_uri": "https://localhost:8080/"
        },
        "id": "seigSgfYNFlp",
        "outputId": "531006e9-5252-4fbb-fa46-f2f870feae51"
      },
      "execution_count": 11,
      "outputs": [
        {
          "output_type": "execute_result",
          "data": {
            "text/plain": [
              "matrix([[1, 2, 3, 4],\n",
              "        [5, 6, 7, 8]])"
            ]
          },
          "metadata": {},
          "execution_count": 11
        }
      ]
    },
    {
      "cell_type": "code",
      "source": [
        "i=np.matrix([[4,3],[9,8],[2,1],[7,6]])"
      ],
      "metadata": {
        "id": "npQm6JXSNGk7"
      },
      "execution_count": 14,
      "outputs": []
    },
    {
      "cell_type": "code",
      "source": [
        "h*i"
      ],
      "metadata": {
        "colab": {
          "base_uri": "https://localhost:8080/"
        },
        "id": "1m2X_V6ZNRkg",
        "outputId": "4f823ed3-8e17-4c3d-d3a2-d82c28f6f308"
      },
      "execution_count": 15,
      "outputs": [
        {
          "output_type": "execute_result",
          "data": {
            "text/plain": [
              "matrix([[ 56,  46],\n",
              "        [144, 118]])"
            ]
          },
          "metadata": {},
          "execution_count": 15
        }
      ]
    },
    {
      "cell_type": "code",
      "source": [
        "j=np.matrix([[4,3.0],[9,8],[2,1],[7,6]])"
      ],
      "metadata": {
        "id": "objzVKotNShd"
      },
      "execution_count": 16,
      "outputs": []
    },
    {
      "cell_type": "code",
      "source": [
        "j.dtype"
      ],
      "metadata": {
        "colab": {
          "base_uri": "https://localhost:8080/"
        },
        "id": "_kEcU7AkNjio",
        "outputId": "1e904516-76dd-4684-c00b-b8a4bf957ff6"
      },
      "execution_count": 17,
      "outputs": [
        {
          "output_type": "execute_result",
          "data": {
            "text/plain": [
              "dtype('float64')"
            ]
          },
          "metadata": {},
          "execution_count": 17
        }
      ]
    },
    {
      "cell_type": "code",
      "source": [
        "j.shape"
      ],
      "metadata": {
        "colab": {
          "base_uri": "https://localhost:8080/"
        },
        "id": "1w_ZzzAtNk1A",
        "outputId": "6864fe54-22e6-4180-c7f9-99dff0583462"
      },
      "execution_count": 18,
      "outputs": [
        {
          "output_type": "execute_result",
          "data": {
            "text/plain": [
              "(4, 2)"
            ]
          },
          "metadata": {},
          "execution_count": 18
        }
      ]
    },
    {
      "cell_type": "code",
      "source": [
        "x.sum()"
      ],
      "metadata": {
        "colab": {
          "base_uri": "https://localhost:8080/"
        },
        "id": "bLuZ4FLINod4",
        "outputId": "12c82a84-1dad-404e-d592-e2e9f7a8f8e7"
      },
      "execution_count": 19,
      "outputs": [
        {
          "output_type": "execute_result",
          "data": {
            "text/plain": [
              "12"
            ]
          },
          "metadata": {},
          "execution_count": 19
        }
      ]
    },
    {
      "cell_type": "code",
      "source": [
        "np.sum(x)"
      ],
      "metadata": {
        "colab": {
          "base_uri": "https://localhost:8080/"
        },
        "id": "YkV3MyzWNrHC",
        "outputId": "994cacc5-763a-4a8a-b44a-df0b10bfcca1"
      },
      "execution_count": 20,
      "outputs": [
        {
          "output_type": "execute_result",
          "data": {
            "text/plain": [
              "12"
            ]
          },
          "metadata": {},
          "execution_count": 20
        }
      ]
    },
    {
      "cell_type": "code",
      "source": [
        "i.reshape((2,4))"
      ],
      "metadata": {
        "colab": {
          "base_uri": "https://localhost:8080/"
        },
        "id": "Z3pF2HhLNtAw",
        "outputId": "239f0258-6717-404a-f20e-18f2ac9d35ba"
      },
      "execution_count": 24,
      "outputs": [
        {
          "output_type": "execute_result",
          "data": {
            "text/plain": [
              "matrix([[4, 3, 9, 8],\n",
              "        [2, 1, 7, 6]])"
            ]
          },
          "metadata": {},
          "execution_count": 24
        }
      ]
    },
    {
      "cell_type": "code",
      "source": [
        "i.T"
      ],
      "metadata": {
        "colab": {
          "base_uri": "https://localhost:8080/"
        },
        "id": "XfEghmUUNykO",
        "outputId": "6bef1066-931b-4467-baf7-fed8a5f782ed"
      },
      "execution_count": 25,
      "outputs": [
        {
          "output_type": "execute_result",
          "data": {
            "text/plain": [
              "matrix([[4, 9, 2, 7],\n",
              "        [3, 8, 1, 6]])"
            ]
          },
          "metadata": {},
          "execution_count": 25
        }
      ]
    },
    {
      "cell_type": "code",
      "source": [
        "j[1,2]"
      ],
      "metadata": {
        "colab": {
          "base_uri": "https://localhost:8080/",
          "height": 263
        },
        "id": "h0XWYSJ3OCum",
        "outputId": "eeb1f8bc-fb21-4ca9-cd56-7db97813a71e"
      },
      "execution_count": 29,
      "outputs": [
        {
          "output_type": "error",
          "ename": "IndexError",
          "evalue": "index 2 is out of bounds for axis 1 with size 2",
          "traceback": [
            "\u001b[0;31m---------------------------------------------------------------------------\u001b[0m",
            "\u001b[0;31mIndexError\u001b[0m                                Traceback (most recent call last)",
            "\u001b[0;32m<ipython-input-29-dcb9cc7c67bf>\u001b[0m in \u001b[0;36m<cell line: 1>\u001b[0;34m()\u001b[0m\n\u001b[0;32m----> 1\u001b[0;31m \u001b[0mj\u001b[0m\u001b[0;34m[\u001b[0m\u001b[0;36m1\u001b[0m\u001b[0;34m,\u001b[0m\u001b[0;36m2\u001b[0m\u001b[0;34m]\u001b[0m\u001b[0;34m\u001b[0m\u001b[0;34m\u001b[0m\u001b[0m\n\u001b[0m",
            "\u001b[0;32m/usr/local/lib/python3.10/dist-packages/numpy/matrixlib/defmatrix.py\u001b[0m in \u001b[0;36m__getitem__\u001b[0;34m(self, index)\u001b[0m\n\u001b[1;32m    192\u001b[0m \u001b[0;34m\u001b[0m\u001b[0m\n\u001b[1;32m    193\u001b[0m         \u001b[0;32mtry\u001b[0m\u001b[0;34m:\u001b[0m\u001b[0;34m\u001b[0m\u001b[0;34m\u001b[0m\u001b[0m\n\u001b[0;32m--> 194\u001b[0;31m             \u001b[0mout\u001b[0m \u001b[0;34m=\u001b[0m \u001b[0mN\u001b[0m\u001b[0;34m.\u001b[0m\u001b[0mndarray\u001b[0m\u001b[0;34m.\u001b[0m\u001b[0m__getitem__\u001b[0m\u001b[0;34m(\u001b[0m\u001b[0mself\u001b[0m\u001b[0;34m,\u001b[0m \u001b[0mindex\u001b[0m\u001b[0;34m)\u001b[0m\u001b[0;34m\u001b[0m\u001b[0;34m\u001b[0m\u001b[0m\n\u001b[0m\u001b[1;32m    195\u001b[0m         \u001b[0;32mfinally\u001b[0m\u001b[0;34m:\u001b[0m\u001b[0;34m\u001b[0m\u001b[0;34m\u001b[0m\u001b[0m\n\u001b[1;32m    196\u001b[0m             \u001b[0mself\u001b[0m\u001b[0;34m.\u001b[0m\u001b[0m_getitem\u001b[0m \u001b[0;34m=\u001b[0m \u001b[0;32mFalse\u001b[0m\u001b[0;34m\u001b[0m\u001b[0;34m\u001b[0m\u001b[0m\n",
            "\u001b[0;31mIndexError\u001b[0m: index 2 is out of bounds for axis 1 with size 2"
          ]
        }
      ]
    },
    {
      "cell_type": "code",
      "source": [
        "np.sqrt(x)"
      ],
      "metadata": {
        "colab": {
          "base_uri": "https://localhost:8080/"
        },
        "id": "-9MUyYdMOMYJ",
        "outputId": "d9834d68-2e2b-4158-f2ad-e112124d4713"
      },
      "execution_count": 30,
      "outputs": [
        {
          "output_type": "execute_result",
          "data": {
            "text/plain": [
              "array([1.73205081, 2.        , 2.23606798])"
            ]
          },
          "metadata": {},
          "execution_count": 30
        }
      ]
    },
    {
      "cell_type": "code",
      "source": [
        "x**2"
      ],
      "metadata": {
        "colab": {
          "base_uri": "https://localhost:8080/"
        },
        "id": "-VpVhXeUOhhC",
        "outputId": "73471bdf-553e-4d6f-a2c5-a11a57e47abf"
      },
      "execution_count": 31,
      "outputs": [
        {
          "output_type": "execute_result",
          "data": {
            "text/plain": [
              "array([ 9, 16, 25])"
            ]
          },
          "metadata": {},
          "execution_count": 31
        }
      ]
    },
    {
      "cell_type": "code",
      "source": [
        "x**0.5"
      ],
      "metadata": {
        "colab": {
          "base_uri": "https://localhost:8080/"
        },
        "id": "BT9UkQz2Ojf4",
        "outputId": "5e241ce5-cebb-48be-f829-ade4d4a9319d"
      },
      "execution_count": 32,
      "outputs": [
        {
          "output_type": "execute_result",
          "data": {
            "text/plain": [
              "array([1.73205081, 2.        , 2.23606798])"
            ]
          },
          "metadata": {},
          "execution_count": 32
        }
      ]
    },
    {
      "cell_type": "code",
      "source": [
        "np.random.normal()"
      ],
      "metadata": {
        "colab": {
          "base_uri": "https://localhost:8080/"
        },
        "id": "jKn_6QSnOleU",
        "outputId": "d8d26f5b-db4c-471c-e7eb-3e7af6ca9eef"
      },
      "execution_count": 33,
      "outputs": [
        {
          "output_type": "execute_result",
          "data": {
            "text/plain": [
              "-0.19272001927624782"
            ]
          },
          "metadata": {},
          "execution_count": 33
        }
      ]
    },
    {
      "cell_type": "code",
      "source": [
        "x=np.random.normal(size=50)"
      ],
      "metadata": {
        "id": "KKbPffDUOo60"
      },
      "execution_count": 35,
      "outputs": []
    },
    {
      "cell_type": "code",
      "source": [
        "x"
      ],
      "metadata": {
        "colab": {
          "base_uri": "https://localhost:8080/"
        },
        "id": "Dbz2NOvoRpUF",
        "outputId": "6ba7f0fe-e5a8-412b-9620-c2635c720fdf"
      },
      "execution_count": 36,
      "outputs": [
        {
          "output_type": "execute_result",
          "data": {
            "text/plain": [
              "array([-3.58187156e-01,  4.98990762e-02,  1.40739956e+00, -4.96626500e-01,\n",
              "        1.23945441e-04,  5.45060717e-01,  4.92504899e-01,  3.92728049e-01,\n",
              "       -1.59187006e+00, -1.04680845e+00,  4.30996332e-01,  1.33713398e-02,\n",
              "       -7.42185628e-01, -3.89120078e-01, -2.22910587e-01, -3.28331272e-01,\n",
              "       -2.46118467e-01, -1.08059655e+00, -4.57410485e-01,  1.22018237e+00,\n",
              "       -5.81039192e-01, -7.65539666e-01, -6.56408374e-01, -1.49239364e+00,\n",
              "       -5.77367443e-01,  1.67027612e+00,  8.11050356e-01, -1.91097570e-01,\n",
              "       -2.70578614e-01, -6.36444868e-01,  3.49882594e-01, -4.71581110e-01,\n",
              "       -1.24977476e+00, -2.34320195e-01,  7.84109115e-02,  1.11863747e+00,\n",
              "       -5.60867709e-02,  8.89440832e-02,  9.44590670e-01, -1.48625868e-01,\n",
              "       -6.03493246e-01,  7.19040512e-01, -1.46867104e+00, -6.73739835e-01,\n",
              "       -3.71815750e-01,  1.53255924e+00, -6.90451813e-01, -1.04184242e-01,\n",
              "       -3.98818964e-01,  1.73474795e-01])"
            ]
          },
          "metadata": {},
          "execution_count": 36
        }
      ]
    },
    {
      "cell_type": "code",
      "source": [
        "y= x+np.random.normal(loc=50,scale=1,size=50)"
      ],
      "metadata": {
        "id": "WgYaIFaWRseD"
      },
      "execution_count": 41,
      "outputs": []
    },
    {
      "cell_type": "code",
      "source": [
        "y"
      ],
      "metadata": {
        "colab": {
          "base_uri": "https://localhost:8080/"
        },
        "id": "QpnTkLsxR374",
        "outputId": "41747c2b-b587-4f14-f30f-d3f19c113e9d"
      },
      "execution_count": 42,
      "outputs": [
        {
          "output_type": "execute_result",
          "data": {
            "text/plain": [
              "array([48.69805103, 52.25611275, 50.99011744, 48.77683409, 49.78403813,\n",
              "       52.2390571 , 51.49486845, 51.88603937, 48.78294999, 49.47013992,\n",
              "       48.982013  , 50.14795683, 50.14475464, 51.68169524, 51.95081281,\n",
              "       50.11796864, 49.44202633, 50.40396924, 48.31602251, 51.28964567,\n",
              "       51.20674264, 49.05220037, 49.79489956, 47.71193564, 49.18858554,\n",
              "       52.37607445, 51.27985978, 50.78139778, 49.12544265, 49.1107301 ,\n",
              "       51.46352764, 49.09989875, 48.55504588, 50.77699383, 50.39100448,\n",
              "       51.15690404, 50.27660347, 50.73392515, 50.79270508, 47.36802764,\n",
              "       49.70419329, 50.25770133, 47.86377766, 50.02007582, 50.10028268,\n",
              "       52.57458588, 49.47423295, 49.72510031, 50.10196265, 49.69794559])"
            ]
          },
          "metadata": {},
          "execution_count": 42
        }
      ]
    },
    {
      "cell_type": "code",
      "source": [
        "np.corrcoef(x,y)"
      ],
      "metadata": {
        "colab": {
          "base_uri": "https://localhost:8080/"
        },
        "id": "3FFkupgxR4dx",
        "outputId": "9fec8442-5816-4186-cda7-cd54263cb382"
      },
      "execution_count": 43,
      "outputs": [
        {
          "output_type": "execute_result",
          "data": {
            "text/plain": [
              "array([[1.        , 0.66570202],\n",
              "       [0.66570202, 1.        ]])"
            ]
          },
          "metadata": {},
          "execution_count": 43
        }
      ]
    },
    {
      "cell_type": "code",
      "source": [
        "rng=np.random.default_rng(1303)"
      ],
      "metadata": {
        "id": "H8zSYSZaSEJN"
      },
      "execution_count": 44,
      "outputs": []
    },
    {
      "cell_type": "code",
      "source": [
        "rng"
      ],
      "metadata": {
        "colab": {
          "base_uri": "https://localhost:8080/"
        },
        "id": "F0r0HRONSQ37",
        "outputId": "973f7da4-527a-40bd-a50d-182d4b23d81f"
      },
      "execution_count": 45,
      "outputs": [
        {
          "output_type": "execute_result",
          "data": {
            "text/plain": [
              "Generator(PCG64) at 0x7E4FE0B0F060"
            ]
          },
          "metadata": {},
          "execution_count": 45
        }
      ]
    },
    {
      "cell_type": "code",
      "source": [
        "print(rng.normal(scale=5,size=2))"
      ],
      "metadata": {
        "colab": {
          "base_uri": "https://localhost:8080/"
        },
        "id": "5_5QzEU1SSCJ",
        "outputId": "8a8b68c4-c6bf-4da7-a3df-4a43261b5095"
      },
      "execution_count": 46,
      "outputs": [
        {
          "output_type": "stream",
          "name": "stdout",
          "text": [
            "[ 4.09482632 -1.07485605]\n"
          ]
        }
      ]
    },
    {
      "cell_type": "code",
      "source": [
        "#this random seed generates the same results for multiple runs of the code unlike random function\n",
        "rng2=np.random.default_rng(1303)"
      ],
      "metadata": {
        "id": "UbKTR408SY0X"
      },
      "execution_count": 50,
      "outputs": []
    },
    {
      "cell_type": "code",
      "source": [
        "print(rng2.normal(scale = 5,size=2))"
      ],
      "metadata": {
        "colab": {
          "base_uri": "https://localhost:8080/"
        },
        "id": "3vPgDaTXSeXJ",
        "outputId": "55be4c5c-69db-4ed8-947f-b8ffe0966632"
      },
      "execution_count": 49,
      "outputs": [
        {
          "output_type": "stream",
          "name": "stdout",
          "text": [
            "[ 4.09482632 -1.07485605]\n"
          ]
        }
      ]
    },
    {
      "cell_type": "code",
      "source": [
        "rng = np.random.default_rng(3)"
      ],
      "metadata": {
        "id": "38miNQDJSjNA"
      },
      "execution_count": 51,
      "outputs": []
    },
    {
      "cell_type": "code",
      "source": [
        "y=rng.standard_normal(10)"
      ],
      "metadata": {
        "id": "OlJUqkwXVKM8"
      },
      "execution_count": 52,
      "outputs": []
    },
    {
      "cell_type": "code",
      "source": [
        "np.mean(y),y.mean()"
      ],
      "metadata": {
        "colab": {
          "base_uri": "https://localhost:8080/"
        },
        "id": "uUFcgKWzVN_g",
        "outputId": "7bf1dae6-9f5b-40a0-d18e-31008f18ed7b"
      },
      "execution_count": 55,
      "outputs": [
        {
          "output_type": "execute_result",
          "data": {
            "text/plain": [
              "(-0.1126795190952861, -0.1126795190952861)"
            ]
          },
          "metadata": {},
          "execution_count": 55
        }
      ]
    },
    {
      "cell_type": "code",
      "source": [
        "np.var(y),y.var(),np.mean((y-y.mean())**2)"
      ],
      "metadata": {
        "colab": {
          "base_uri": "https://localhost:8080/"
        },
        "id": "tz4AsBGDVyVb",
        "outputId": "602fea69-f16c-485c-a5e9-6d9a8cb18fe0"
      },
      "execution_count": 54,
      "outputs": [
        {
          "output_type": "execute_result",
          "data": {
            "text/plain": [
              "(2.7243406406465125, 2.7243406406465125, 2.7243406406465125)"
            ]
          },
          "metadata": {},
          "execution_count": 54
        }
      ]
    },
    {
      "cell_type": "code",
      "source": [
        "np.sqrt(np.var(y)),np.std(y)"
      ],
      "metadata": {
        "colab": {
          "base_uri": "https://localhost:8080/"
        },
        "id": "kk0NT-sLX7SL",
        "outputId": "ae8013d1-a5e0-4ef8-d03f-df9025af1fbc"
      },
      "execution_count": 57,
      "outputs": [
        {
          "output_type": "execute_result",
          "data": {
            "text/plain": [
              "(1.6505576756498128, 1.6505576756498128)"
            ]
          },
          "metadata": {},
          "execution_count": 57
        }
      ]
    },
    {
      "cell_type": "code",
      "source": [
        "x=rng.standard_normal((10,3))"
      ],
      "metadata": {
        "id": "xQQjtkL_YCNY"
      },
      "execution_count": 59,
      "outputs": []
    },
    {
      "cell_type": "code",
      "source": [
        "x"
      ],
      "metadata": {
        "colab": {
          "base_uri": "https://localhost:8080/"
        },
        "id": "D-C82BDGYK6g",
        "outputId": "c6fda792-fced-4f72-8430-a2036a613760"
      },
      "execution_count": 60,
      "outputs": [
        {
          "output_type": "execute_result",
          "data": {
            "text/plain": [
              "array([[ 0.22578661, -0.35263079, -0.28128742],\n",
              "       [-0.66804635, -1.05515055, -0.39080098],\n",
              "       [ 0.48194539, -0.23855361,  0.9577587 ],\n",
              "       [-0.19980213,  0.02425957,  1.54582085],\n",
              "       [ 0.54510552, -0.50522874, -0.18283897],\n",
              "       [ 0.54052513,  1.93508803, -0.26962033],\n",
              "       [-0.24355868,  1.0023136 , -0.88645994],\n",
              "       [-0.29172023,  0.88253897,  0.58035002],\n",
              "       [ 0.0915167 ,  0.67010435, -2.82816231],\n",
              "       [ 1.02130682, -0.95964476, -1.66861984]])"
            ]
          },
          "metadata": {},
          "execution_count": 60
        }
      ]
    },
    {
      "cell_type": "code",
      "source": [
        "x.mean(axis=0)"
      ],
      "metadata": {
        "colab": {
          "base_uri": "https://localhost:8080/"
        },
        "id": "H6QbNsSeYQ_R",
        "outputId": "adca657e-535c-4deb-9a09-8d43f7d81680"
      },
      "execution_count": 61,
      "outputs": [
        {
          "output_type": "execute_result",
          "data": {
            "text/plain": [
              "array([ 0.15030588,  0.14030961, -0.34238602])"
            ]
          },
          "metadata": {},
          "execution_count": 61
        }
      ]
    },
    {
      "cell_type": "code",
      "source": [
        "x.mean(0)"
      ],
      "metadata": {
        "colab": {
          "base_uri": "https://localhost:8080/"
        },
        "id": "R9__r_NxYTQJ",
        "outputId": "33ab67bb-1977-4eb1-8e24-fa972429155f"
      },
      "execution_count": 62,
      "outputs": [
        {
          "output_type": "execute_result",
          "data": {
            "text/plain": [
              "array([ 0.15030588,  0.14030961, -0.34238602])"
            ]
          },
          "metadata": {},
          "execution_count": 62
        }
      ]
    },
    {
      "cell_type": "code",
      "source": [],
      "metadata": {
        "id": "RodxNX31YU4V"
      },
      "execution_count": null,
      "outputs": []
    }
  ]
}